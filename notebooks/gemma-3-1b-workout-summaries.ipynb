{
  "nbformat": 4,
  "nbformat_minor": 0,
  "metadata": {
    "colab": {
      "provenance": [],
      "gpuType": "T4"
    },
    "kernelspec": {
      "name": "python3",
      "display_name": "Python 3"
    },
    "language_info": {
      "name": "python"
    },
    "accelerator": "GPU"
  },
  "cells": [
    {
      "cell_type": "markdown",
      "source": [
        "# Create workout summaries with Gemma 3 1B\n",
        "\n",
        "<a target=\"_blank\" href=\"https://colab.research.google.com/github/patrickloeber/genai-tutorials/blob/main/notebooks/gemma-3-1b-workout-summaries.ipynb\"><img src=\"https://colab.research.google.com/assets/colab-badge.svg\" alt=\"Open In Colab\"/></a>\n",
        "\n",
        "Gemma 3 1B can be used for data captioning and summary creation tasks.\n",
        "\n",
        "For example, personal push notifications in (mobile) apps are a good use case for this.\n",
        "\n",
        "This notebook shows how to do it. We'll use an example workout data in json format and turn it into a fun workout summary.\n",
        "\n",
        "Install the release for Gemma 3 and login to access the model."
      ],
      "metadata": {
        "id": "umZ3bEQhAiFD"
      }
    },
    {
      "cell_type": "code",
      "execution_count": null,
      "metadata": {
        "id": "yMyqiuS0mcEf"
      },
      "outputs": [],
      "source": [
        "!pip install git+https://github.com/huggingface/transformers@v4.49.0-Gemma-3"
      ]
    },
    {
      "cell_type": "code",
      "source": [
        "!huggingface-cli login"
      ],
      "metadata": {
        "id": "aRDYIIVanObJ"
      },
      "execution_count": null,
      "outputs": []
    },
    {
      "cell_type": "markdown",
      "source": [
        "Let's load the model and pipeline:"
      ],
      "metadata": {
        "id": "xZuEc2YOBbpy"
      }
    },
    {
      "cell_type": "code",
      "source": [
        "import torch\n",
        "from transformers import AutoTokenizer, pipeline\n",
        "\n",
        "model_id=\"google/gemma-3-1b-it\"\n",
        "\n",
        "tokenizer = AutoTokenizer.from_pretrained(model_id)\n",
        "\n",
        "pipe = pipeline(\"text-generation\", model=\"google/gemma-3-1b-it\",\n",
        "                device=\"cuda\", torch_dtype=torch.bfloat16, tokenizer=tokenizer)"
      ],
      "metadata": {
        "colab": {
          "base_uri": "https://localhost:8080/"
        },
        "id": "Nd1_vl4kmuLa",
        "outputId": "3d94e4bf-e8c1-406d-bd9f-858531259be4"
      },
      "execution_count": 116,
      "outputs": [
        {
          "output_type": "stream",
          "name": "stderr",
          "text": [
            "Device set to use cuda\n"
          ]
        }
      ]
    },
    {
      "cell_type": "markdown",
      "source": [
        "Create the summary prompt and function to create the summary:"
      ],
      "metadata": {
        "id": "o22Lq8iLBkDW"
      }
    },
    {
      "cell_type": "code",
      "source": [
        "summary_prompt = \"\"\"You are a motivating fitness coach. Generate a short,\n",
        "personal, and fun workout summary for the user from this data:\n",
        "\n",
        "{data}\n",
        "\n",
        "Keep it under 20 words and use emojies. Only return the summary.\n",
        "\"\"\"\n",
        "\n",
        "def generate_workout_summary(workout_data):\n",
        "  message = [\n",
        "      {\n",
        "          \"role\": \"user\",\n",
        "          \"content\": [{\"type\": \"text\", \"text\": summary_prompt.format(data=workout_data)}]\n",
        "      }\n",
        "  ]\n",
        "  output = pipe(message, max_new_tokens=50, do_sample=True)\n",
        "  return output[0]['generated_text'][-1][\"content\"]"
      ],
      "metadata": {
        "id": "qc_VTmwr0zpz"
      },
      "execution_count": 155,
      "outputs": []
    },
    {
      "cell_type": "markdown",
      "source": [
        "Let's feed in the workout data and try it:"
      ],
      "metadata": {
        "id": "A6ntQey7BsK5"
      }
    },
    {
      "cell_type": "code",
      "source": [
        "workout_data = {\n",
        "    \"type\": \"run\", \"duration_minutes\": 48, \"avg_heart_rate_bpm\": 150,\n",
        "    \"details\": {\"elevation_gain_m\": 320, \"pace_kmh\": 10.2,\n",
        "                \"distance_km\": 8.1, \"personal_record\": True}\n",
        "}\n",
        "\n",
        "summary = generate_workout_summary(workout_data)\n",
        "print(summary)"
      ],
      "metadata": {
        "colab": {
          "base_uri": "https://localhost:8080/"
        },
        "id": "llk7Ih9uztma",
        "outputId": "b1371ac7-cfe2-4ad6-ac9e-2277d968510d"
      },
      "execution_count": 165,
      "outputs": [
        {
          "output_type": "stream",
          "name": "stdout",
          "text": [
            "🎉 Great run! 48 mins, 150bpm, 8.1km! 🚀  Personal record achieved! 💪\n"
          ]
        }
      ]
    }
  ]
}